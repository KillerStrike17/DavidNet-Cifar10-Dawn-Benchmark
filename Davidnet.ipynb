{
  "cells": [
    {
      "cell_type": "markdown",
      "metadata": {
        "id": "view-in-github",
        "colab_type": "text"
      },
      "source": [
        "<a href=\"https://colab.research.google.com/github/KillerStrike17/DavidNet-Cifar10-Dawn-Benchmark/blob/main/Davidnet.ipynb\" target=\"_parent\"><img src=\"https://colab.research.google.com/assets/colab-badge.svg\" alt=\"Open In Colab\"/></a>"
      ]
    },
    {
      "cell_type": "code",
      "source": [
        "!pip install torch-lr-finder"
      ],
      "metadata": {
        "colab": {
          "base_uri": "https://localhost:8080/"
        },
        "id": "pOMFtjrknsgP",
        "outputId": "961e4969-abff-439d-9ee3-c6c538c3cb55"
      },
      "execution_count": null,
      "outputs": [
        {
          "output_type": "stream",
          "name": "stdout",
          "text": [
            "Requirement already satisfied: torch-lr-finder in /usr/local/lib/python3.10/dist-packages (0.2.1)\n",
            "Requirement already satisfied: matplotlib in /usr/local/lib/python3.10/dist-packages (from torch-lr-finder) (3.7.1)\n",
            "Requirement already satisfied: numpy in /usr/local/lib/python3.10/dist-packages (from torch-lr-finder) (1.22.4)\n",
            "Requirement already satisfied: torch>=0.4.1 in /usr/local/lib/python3.10/dist-packages (from torch-lr-finder) (2.0.1+cu118)\n",
            "Requirement already satisfied: tqdm in /usr/local/lib/python3.10/dist-packages (from torch-lr-finder) (4.65.0)\n",
            "Requirement already satisfied: packaging in /usr/local/lib/python3.10/dist-packages (from torch-lr-finder) (23.1)\n",
            "Requirement already satisfied: filelock in /usr/local/lib/python3.10/dist-packages (from torch>=0.4.1->torch-lr-finder) (3.12.2)\n",
            "Requirement already satisfied: typing-extensions in /usr/local/lib/python3.10/dist-packages (from torch>=0.4.1->torch-lr-finder) (4.6.3)\n",
            "Requirement already satisfied: sympy in /usr/local/lib/python3.10/dist-packages (from torch>=0.4.1->torch-lr-finder) (1.11.1)\n",
            "Requirement already satisfied: networkx in /usr/local/lib/python3.10/dist-packages (from torch>=0.4.1->torch-lr-finder) (3.1)\n",
            "Requirement already satisfied: jinja2 in /usr/local/lib/python3.10/dist-packages (from torch>=0.4.1->torch-lr-finder) (3.1.2)\n",
            "Requirement already satisfied: triton==2.0.0 in /usr/local/lib/python3.10/dist-packages (from torch>=0.4.1->torch-lr-finder) (2.0.0)\n",
            "Requirement already satisfied: cmake in /usr/local/lib/python3.10/dist-packages (from triton==2.0.0->torch>=0.4.1->torch-lr-finder) (3.25.2)\n",
            "Requirement already satisfied: lit in /usr/local/lib/python3.10/dist-packages (from triton==2.0.0->torch>=0.4.1->torch-lr-finder) (16.0.6)\n",
            "Requirement already satisfied: contourpy>=1.0.1 in /usr/local/lib/python3.10/dist-packages (from matplotlib->torch-lr-finder) (1.1.0)\n",
            "Requirement already satisfied: cycler>=0.10 in /usr/local/lib/python3.10/dist-packages (from matplotlib->torch-lr-finder) (0.11.0)\n",
            "Requirement already satisfied: fonttools>=4.22.0 in /usr/local/lib/python3.10/dist-packages (from matplotlib->torch-lr-finder) (4.40.0)\n",
            "Requirement already satisfied: kiwisolver>=1.0.1 in /usr/local/lib/python3.10/dist-packages (from matplotlib->torch-lr-finder) (1.4.4)\n",
            "Requirement already satisfied: pillow>=6.2.0 in /usr/local/lib/python3.10/dist-packages (from matplotlib->torch-lr-finder) (8.4.0)\n",
            "Requirement already satisfied: pyparsing>=2.3.1 in /usr/local/lib/python3.10/dist-packages (from matplotlib->torch-lr-finder) (3.1.0)\n",
            "Requirement already satisfied: python-dateutil>=2.7 in /usr/local/lib/python3.10/dist-packages (from matplotlib->torch-lr-finder) (2.8.2)\n",
            "Requirement already satisfied: six>=1.5 in /usr/local/lib/python3.10/dist-packages (from python-dateutil>=2.7->matplotlib->torch-lr-finder) (1.16.0)\n",
            "Requirement already satisfied: MarkupSafe>=2.0 in /usr/local/lib/python3.10/dist-packages (from jinja2->torch>=0.4.1->torch-lr-finder) (2.1.3)\n",
            "Requirement already satisfied: mpmath>=0.19 in /usr/local/lib/python3.10/dist-packages (from sympy->torch>=0.4.1->torch-lr-finder) (1.3.0)\n"
          ]
        }
      ]
    },
    {
      "cell_type": "code",
      "execution_count": null,
      "metadata": {
        "id": "kcrEsN_gKZ-C"
      },
      "outputs": [],
      "source": [
        "import torch\n",
        "import matplotlib.pyplot as plt\n",
        "torch.autograd.set_detect_anomaly(True)\n",
        "\n",
        "torch.manual_seed(1)\n",
        "\n",
        "batch_size = 512\n",
        "class_map = {\n",
        "    0:'airplane',\n",
        "    1:'automobile',\n",
        "    2:'bird',\n",
        "    3:'cat',\n",
        "    4:'deer',\n",
        "    5:'dog',\n",
        "    6:'frog',\n",
        "    7:'horse',\n",
        "    8:'ship',\n",
        "    9:'truck'\n",
        "}\n",
        "show_summary = True\n",
        "show_dataset_analyze = True"
      ]
    },
    {
      "cell_type": "code",
      "execution_count": null,
      "metadata": {
        "colab": {
          "base_uri": "https://localhost:8080/"
        },
        "id": "CsXXrYagKZ-D",
        "outputId": "dbc4f227-4275-44ee-e99e-e827df6c6e1e"
      },
      "outputs": [
        {
          "output_type": "execute_result",
          "data": {
            "text/plain": [
              "True"
            ]
          },
          "metadata": {},
          "execution_count": 3
        }
      ],
      "source": [
        "# Load Network and Print Summary\n",
        "from DeepLib.model import DavidNet\n",
        "from DeepLib.utils import get_device, print_summary\n",
        "\n",
        "# Check GPU availability\n",
        "use_cuda, device = get_device()\n",
        "use_cuda"
      ]
    },
    {
      "cell_type": "code",
      "execution_count": null,
      "metadata": {
        "colab": {
          "base_uri": "https://localhost:8080/"
        },
        "id": "gVCW7RxvKZ-E",
        "outputId": "c95890ca-de20-49a4-f760-36f962091a0f"
      },
      "outputs": [
        {
          "output_type": "stream",
          "name": "stdout",
          "text": [
            "Files already downloaded and verified\n"
          ]
        },
        {
          "output_type": "stream",
          "name": "stderr",
          "text": [
            "/usr/local/lib/python3.10/dist-packages/torch/utils/data/dataloader.py:560: UserWarning: This DataLoader will create 4 worker processes in total. Our suggested max number of worker in current system is 2, which is smaller than what this DataLoader is going to create. Please be aware that excessive worker creation might get DataLoader running slow or even freeze, lower the worker number to avoid potential slowness/freeze if necessary.\n",
            "  warnings.warn(_create_warning_msg(\n"
          ]
        },
        {
          "output_type": "stream",
          "name": "stdout",
          "text": [
            "Files already downloaded and verified\n"
          ]
        }
      ],
      "source": [
        "from DeepLib.dataset import get_loader\n",
        "from DeepLib.transform import get_a_train_transform, get_a_test_transform\n",
        "\n",
        "train_loader, test_loader = get_loader('CIFAR10',get_a_train_transform(), get_a_test_transform(), batch_size=batch_size, use_cuda=use_cuda)"
      ]
    },
    {
      "cell_type": "code",
      "execution_count": null,
      "metadata": {
        "id": "jEawAZ6JKZ-E",
        "colab": {
          "base_uri": "https://localhost:8080/",
          "height": 514
        },
        "outputId": "0e3999c4-2a8d-4063-f77c-24f61e03f4b2"
      },
      "outputs": [
        {
          "output_type": "stream",
          "name": "stderr",
          "text": [
            "WARNING:matplotlib.image:Clipping input data to the valid range for imshow with RGB data ([0..1] for floats or [0..255] for integers).\n",
            "WARNING:matplotlib.image:Clipping input data to the valid range for imshow with RGB data ([0..1] for floats or [0..255] for integers).\n",
            "WARNING:matplotlib.image:Clipping input data to the valid range for imshow with RGB data ([0..1] for floats or [0..255] for integers).\n",
            "WARNING:matplotlib.image:Clipping input data to the valid range for imshow with RGB data ([0..1] for floats or [0..255] for integers).\n",
            "WARNING:matplotlib.image:Clipping input data to the valid range for imshow with RGB data ([0..1] for floats or [0..255] for integers).\n",
            "WARNING:matplotlib.image:Clipping input data to the valid range for imshow with RGB data ([0..1] for floats or [0..255] for integers).\n",
            "WARNING:matplotlib.image:Clipping input data to the valid range for imshow with RGB data ([0..1] for floats or [0..255] for integers).\n",
            "WARNING:matplotlib.image:Clipping input data to the valid range for imshow with RGB data ([0..1] for floats or [0..255] for integers).\n",
            "WARNING:matplotlib.image:Clipping input data to the valid range for imshow with RGB data ([0..1] for floats or [0..255] for integers).\n",
            "WARNING:matplotlib.image:Clipping input data to the valid range for imshow with RGB data ([0..1] for floats or [0..255] for integers).\n",
            "WARNING:matplotlib.image:Clipping input data to the valid range for imshow with RGB data ([0..1] for floats or [0..255] for integers).\n",
            "WARNING:matplotlib.image:Clipping input data to the valid range for imshow with RGB data ([0..1] for floats or [0..255] for integers).\n",
            "WARNING:matplotlib.image:Clipping input data to the valid range for imshow with RGB data ([0..1] for floats or [0..255] for integers).\n",
            "WARNING:matplotlib.image:Clipping input data to the valid range for imshow with RGB data ([0..1] for floats or [0..255] for integers).\n",
            "WARNING:matplotlib.image:Clipping input data to the valid range for imshow with RGB data ([0..1] for floats or [0..255] for integers).\n",
            "WARNING:matplotlib.image:Clipping input data to the valid range for imshow with RGB data ([0..1] for floats or [0..255] for integers).\n"
          ]
        },
        {
          "output_type": "display_data",
          "data": {
            "text/plain": [
              "<Figure size 1500x500 with 16 Axes>"
            ],
            "image/png": "[encoded data removed]"
          },
          "metadata": {}
        }
      ],
      "source": [
        "# Calculate Class Scale\n",
        "from DeepLib.visualize import print_class_scale, print_samples\n",
        "if show_dataset_analyze:\n",
        "    # print_class_scale(train_loader, class_map)\n",
        "    print_samples(train_loader,class_map)#"
      ]
    },
    {
      "cell_type": "code",
      "execution_count": null,
      "metadata": {
        "colab": {
          "base_uri": "https://localhost:8080/"
        },
        "id": "xDiZSNJEKZ-F",
        "outputId": "8335136a-f042-42e9-b425-aba1b528d7c4"
      },
      "outputs": [
        {
          "output_type": "stream",
          "name": "stdout",
          "text": [
            "----------------------------------------------------------------\n",
            "        Layer (type)               Output Shape         Param #\n",
            "================================================================\n",
            "            Conv2d-1           [-1, 64, 32, 32]           1,792\n",
            "       BatchNorm2d-2           [-1, 64, 32, 32]             128\n",
            "              ReLU-3           [-1, 64, 32, 32]               0\n",
            "            Conv2d-4          [-1, 128, 32, 32]          73,856\n",
            "         MaxPool2d-5          [-1, 128, 16, 16]               0\n",
            "       BatchNorm2d-6          [-1, 128, 16, 16]             256\n",
            "              ReLU-7          [-1, 128, 16, 16]               0\n",
            "            Conv2d-8          [-1, 128, 16, 16]         147,584\n",
            "       BatchNorm2d-9          [-1, 128, 16, 16]             256\n",
            "           Conv2d-10          [-1, 128, 16, 16]         147,584\n",
            "      BatchNorm2d-11          [-1, 128, 16, 16]             256\n",
            "             ReLU-12          [-1, 128, 16, 16]               0\n",
            "         ResBlock-13          [-1, 128, 16, 16]               0\n",
            "           Conv2d-14          [-1, 256, 16, 16]         295,168\n",
            "        MaxPool2d-15            [-1, 256, 8, 8]               0\n",
            "      BatchNorm2d-16            [-1, 256, 8, 8]             512\n",
            "             ReLU-17            [-1, 256, 8, 8]               0\n",
            "           Conv2d-18            [-1, 512, 8, 8]       1,180,160\n",
            "        MaxPool2d-19            [-1, 512, 4, 4]               0\n",
            "      BatchNorm2d-20            [-1, 512, 4, 4]           1,024\n",
            "             ReLU-21            [-1, 512, 4, 4]               0\n",
            "           Conv2d-22            [-1, 512, 4, 4]       2,359,808\n",
            "      BatchNorm2d-23            [-1, 512, 4, 4]           1,024\n",
            "           Conv2d-24            [-1, 512, 4, 4]       2,359,808\n",
            "      BatchNorm2d-25            [-1, 512, 4, 4]           1,024\n",
            "             ReLU-26            [-1, 512, 4, 4]               0\n",
            "         ResBlock-27            [-1, 512, 4, 4]               0\n",
            "        MaxPool2d-28            [-1, 512, 1, 1]               0\n",
            "           Linear-29                   [-1, 10]           5,130\n",
            "================================================================\n",
            "Total params: 6,575,370\n",
            "Trainable params: 6,575,370\n",
            "Non-trainable params: 0\n",
            "----------------------------------------------------------------\n",
            "Input size (MB): 0.01\n",
            "Forward/backward pass size (MB): 6.44\n",
            "Params size (MB): 25.08\n",
            "Estimated Total Size (MB): 31.54\n",
            "----------------------------------------------------------------\n"
          ]
        }
      ],
      "source": [
        "import time\n",
        "import math\n",
        "\n",
        "from DeepLib.backpropagation import train, test, get_sgd_optimizer,get_adam_optimizer\n",
        "from DeepLib.utils import initialize_weights\n",
        "from DeepLib.scheduler import one_cycle_lr_pt, one_cycle_lr_custom\n",
        "from DeepLib.training import Training\n",
        "\n",
        "# bnmodel = CifarNet(norm='bn',base_channels=12).apply(initialize_weights).to(device)\n",
        "model = DavidNet(3,32).apply(initialize_weights).to(device)\n",
        "print_summary(model, input_size=(3, 32, 32))"
      ]
    },
    {
      "cell_type": "code",
      "source": [
        "from torch_lr_finder import LRFinder\n",
        "\n",
        "criterion = torch.nn.CrossEntropyLoss()\n",
        "optimizer = get_adam_optimizer(model, lr=0.03, weight_decay=1e-4)\n",
        "lr_finder = LRFinder(model, optimizer, criterion, device=\"cuda\")\n",
        "lr_finder.range_test(train_loader, end_lr=10, num_iter=200, step_mode = \"exp\")\n",
        "lr_finder.plot() # to inspect the loss-learning rate graph\n",
        "lr_finder.reset() # to reset the model and optimizer to their initial state"
      ],
      "metadata": {
        "colab": {
          "base_uri": "https://localhost:8080/",
          "height": 610,
          "referenced_widgets": [
            "7fc833761ddb4f588235f1e8842b6c88",
            "e073365722ec4ce3909cc61a953aa272",
            "a2c029a2eafa404b946978e6ca693367",
            "81973afc09124e6bbae668d4cc5147e5",
            "9c8dd526682044baa1345fdc632876bb",
            "b92286ee57934cf28b9104f7467304ea",
            "94b84a50715c40379c5a992f841d8fbc",
            "4ffd521660d24fe59a461aa14eb81c92",
            "426f9b91c1ad452a8f8a7b7876eb9436",
            "32b92e1e01164ef1a7d9ba3dea675a0e",
            "0e094b5c526a43b5a7bcb6d2baa1ef30"
          ]
        },
        "id": "K3Z1Ed5doRXS",
        "outputId": "aa2713e5-39d5-4f25-e58b-02cfd6162e6d"
      },
      "execution_count": null,
      "outputs": [
        {
          "output_type": "stream",
          "name": "stderr",
          "text": [
            "/usr/local/lib/python3.10/dist-packages/torch_lr_finder/lr_finder.py:5: TqdmExperimentalWarning: Using `tqdm.autonotebook.tqdm` in notebook mode. Use `tqdm.tqdm` instead to force console mode (e.g. in jupyter console)\n",
            "  from tqdm.autonotebook import tqdm\n"
          ]
        },
        {
          "output_type": "display_data",
          "data": {
            "text/plain": [
              "  0%|          | 0/200 [00:00<?, ?it/s]"
            ],
            "application/vnd.jupyter.widget-view+json": {
              "version_major": 2,
              "version_minor": 0,
              "model_id": "7fc833761ddb4f588235f1e8842b6c88"
            }
          },
          "metadata": {}
        },
        {
          "output_type": "stream",
          "name": "stdout",
          "text": [
            "Stopping early, the loss has diverged\n",
            "Learning rate search finished. See the graph with {finder_name}.plot()\n",
            "LR suggestion: steepest gradient\n",
            "Suggested LR: 5.07E-02\n"
          ]
        },
        {
          "output_type": "display_data",
          "data": {
            "text/plain": [
              "<Figure size 640x480 with 1 Axes>"
            ],
            "image/png": "[encoded data removed]"
          },
          "metadata": {}
        }
      ]
    },
    {
      "cell_type": "code",
      "source": [
        "\n",
        "# Train Params\n",
        "epochs = 24\n",
        "# lr =\n",
        "max_lr = 5.07E-02\n",
        "steps_per_epoch = len(train_loader)\n",
        "dropout = False\n",
        "momentum = 0.9\n",
        "weight_decay = 1e-4\n",
        "\n",
        "print(\"Using Device:\", device)\n",
        "print(\"Epochs:\", epochs)\n",
        "# print(\"Lr:\", lr)\n",
        "print(\"Max Lr:\", max_lr)\n",
        "print(\"Batch Size:\", batch_size)\n",
        "print(\"Dropout:\", dropout)\n",
        "print(\"\\n\")"
      ],
      "metadata": {
        "colab": {
          "base_uri": "https://localhost:8080/"
        },
        "id": "tmhIaNd3nnmP",
        "outputId": "7704f529-8de9-4f85-b48d-9949a33db699"
      },
      "execution_count": null,
      "outputs": [
        {
          "output_type": "stream",
          "name": "stdout",
          "text": [
            "Using Device: cuda\n",
            "Epochs: 24\n",
            "Max Lr: 0.0507\n",
            "Batch Size: 512\n",
            "Dropout: False\n",
            "\n",
            "\n"
          ]
        }
      ]
    },
    {
      "cell_type": "code",
      "source": [
        "# optimizer = get_sgd_optimizer(model, lr=lr, weight_decay=weight_decay)\n",
        "\n",
        "# Pytorch one cycle scheduler\n",
        "pytorch_scheduler = one_cycle_lr_pt(\n",
        "    optimizer,\n",
        "    max_lr=max_lr,\n",
        "    steps_per_epoch=steps_per_epoch,\n",
        "    epochs=epochs,\n",
        "    anneal_strategy='linear'\n",
        ")\n",
        "\n",
        "# # One cycle schedule with a custom function\n",
        "# custom_scheduler = one_cycle_lr_custom(\n",
        "#     optimizer,\n",
        "#     lr=lr,\n",
        "#     max_lr=max_lr,\n",
        "#     steps_per_epoch=steps_per_epoch,\n",
        "#     epochs=epochs,\n",
        "#     anneal_strategy='linear'\n",
        "# )\n",
        "\n",
        "\n"
      ],
      "metadata": {
        "id": "cEgyID6BN-dk"
      },
      "execution_count": null,
      "outputs": []
    },
    {
      "cell_type": "code",
      "source": [
        "trainer = Training(\n",
        "    model,\n",
        "    optimizer,\n",
        "    pytorch_scheduler,\n",
        "    train(),\n",
        "    test,\n",
        "    train_loader,\n",
        "    test_loader,\n",
        "    epochs,\n",
        "    device,\n",
        "    dropout\n",
        ")\n",
        "\n",
        "trainer.run()"
      ],
      "metadata": {
        "colab": {
          "base_uri": "https://localhost:8080/"
        },
        "id": "1nZ23ahBeJFy",
        "outputId": "e85fc5a7-4b7d-4cc5-90a3-9212263975a1"
      },
      "execution_count": null,
      "outputs": [
        {
          "output_type": "stream",
          "name": "stdout",
          "text": [
            "| Epoch | LR       | Time    | TrainLoss | TrainCorrect | TrainAcc | ValLoss  | ValCorrect | ValAcc |\n",
            "|     1 | 0.000507 | 00m 29s | 1.6265    |        22039 | 44.08  % | 1.523900 |       4995 | 49.95% |\n",
            "|     2 | 0.010566 | 00m 29s | 1.384218  |        26774 | 53.55  % | 1.257620 |       5929 | 59.29% |\n",
            "|     3 | 0.020625 | 00m 30s | 1.090993  |        31332 | 62.66  % | 1.067126 |       6481 | 64.81% |\n",
            "|     4 | 0.030684 | 00m 29s | 0.933916  |        33714 | 67.43  % | 0.867857 |       7030 | 70.3 % |\n",
            "|     5 | 0.040744 | 00m 30s | 0.89362   |        34429 | 68.86  % | 0.983632 |       6681 | 66.81% |\n",
            "|     6 | 0.050673 | 00m 29s | 0.87178   |        34845 | 69.69  % | 0.935184 |       6761 | 67.61% |\n",
            "|     7 | 0.048005 | 00m 28s | 0.842768  |        35330 | 70.66  % | 1.060011 |       6525 | 65.25% |\n",
            "|     8 | 0.045336 | 00m 29s | 0.828912  |        35603 | 71.21  % | 0.823272 |       7236 | 72.36% |\n",
            "|     9 | 0.042668 | 00m 30s | 0.801146  |        36055 | 72.11  % | 1.023354 |       6573 | 65.73% |\n",
            "|    10 | 0.040000 | 00m 29s | 0.791639  |        36216 | 72.43  % | 0.834275 |       7283 | 72.83% |\n",
            "|    11 | 0.037332 | 00m 29s | 0.782641  |        36392 | 72.78  % | 0.675078 |       7691 | 76.91% |\n",
            "|    12 | 0.034664 | 00m 29s | 0.763667  |        36839 | 73.68  % | 0.787824 |       7384 | 73.84% |\n",
            "|    13 | 0.031996 | 00m 29s | 0.752649  |        36896 | 73.79  % | 0.659049 |       7718 | 77.18% |\n",
            "|    14 | 0.029328 | 00m 28s | 0.726587  |        37385 | 74.77  % | 0.683953 |       7630 | 76.3 % |\n",
            "|    15 | 0.026659 | 00m 30s | 0.71797   |        37578 | 75.16  % | 0.752580 |       7480 | 74.8 % |\n",
            "|    16 | 0.023991 | 00m 29s | 0.689737  |        37954 | 75.91  % | 0.684609 |       7704 | 77.04% |\n",
            "|    17 | 0.021323 | 00m 30s | 0.66547   |        38499 | 77.0   % | 0.609930 |       7882 | 78.82% |\n",
            "|    18 | 0.018655 | 00m 30s | 0.633025  |        38967 | 77.93  % | 0.589230 |       7996 | 79.96% |\n",
            "|    19 | 0.015987 | 00m 29s | 0.612504  |        39264 | 78.53  % | 0.597544 |       8028 | 80.28% |\n",
            "|    20 | 0.013319 | 00m 30s | 0.588735  |        39780 | 79.56  % | 0.453767 |       8438 | 84.38% |\n",
            "|    21 | 0.010650 | 00m 30s | 0.545583  |        40545 | 81.09  % | 0.472793 |       8416 | 84.16% |\n",
            "|    22 | 0.007982 | 00m 31s | 0.499991  |        41362 | 82.72  % | 0.414237 |       8613 | 86.13% |\n",
            "|    23 | 0.005314 | 00m 30s | 0.443033  |        42322 | 84.64  % | 0.344245 |       8857 | 88.57% |\n",
            "|    24 | 0.002646 | 00m 30s | 0.390306  |        43247 | 86.49  % | 0.315365 |       8928 | 89.28% |\n"
          ]
        }
      ]
    },
    {
      "cell_type": "code",
      "source": [
        "# trainer.print_best_model()"
      ],
      "metadata": {
        "id": "3YITqD86rwP0"
      },
      "execution_count": null,
      "outputs": []
    },
    {
      "cell_type": "code",
      "source": [
        "torch.save(model.state_dict(), 'savemodel.pth')"
      ],
      "metadata": {
        "id": "2-RL8ZyStcUe"
      },
      "execution_count": null,
      "outputs": []
    },
    {
      "cell_type": "markdown",
      "source": [
        "### Pruning"
      ],
      "metadata": {
        "id": "6R7Z7Ewj4iqX"
      }
    },
    {
      "cell_type": "code",
      "source": [
        "# Loading a model to a seperate classifier\n",
        "pruned_model = DavidNet()\n",
        "pruned_model.load_state_dict(torch.load('savemodel.pth'))"
      ],
      "metadata": {
        "colab": {
          "base_uri": "https://localhost:8080/"
        },
        "id": "YVFG5LST4kTv",
        "outputId": "1e8efa3b-37da-48dd-92e5-6c314190de3e"
      },
      "execution_count": null,
      "outputs": [
        {
          "output_type": "execute_result",
          "data": {
            "text/plain": [
              "<All keys matched successfully>"
            ]
          },
          "metadata": {},
          "execution_count": 13
        }
      ]
    },
    {
      "cell_type": "code",
      "source": [
        "# Show Model State Dictionary\n",
        "print(\"Model's state_dict:\")\n",
        "for param_tensor in model.state_dict():\n",
        "    print(param_tensor, \"\\t\", model.state_dict()[param_tensor].size())"
      ],
      "metadata": {
        "colab": {
          "base_uri": "https://localhost:8080/"
        },
        "id": "ExgLkzaR6Aj9",
        "outputId": "6f45e34c-16a7-4aa3-9a1d-8534fdab78b4"
      },
      "execution_count": null,
      "outputs": [
        {
          "output_type": "stream",
          "name": "stdout",
          "text": [
            "Model's state_dict:\n",
            "prep.0.weight \t torch.Size([64, 3, 3, 3])\n",
            "prep.0.bias \t torch.Size([64])\n",
            "prep.1.weight \t torch.Size([64])\n",
            "prep.1.bias \t torch.Size([64])\n",
            "prep.1.running_mean \t torch.Size([64])\n",
            "prep.1.running_var \t torch.Size([64])\n",
            "prep.1.num_batches_tracked \t torch.Size([])\n",
            "l1X.0.weight \t torch.Size([128, 64, 3, 3])\n",
            "l1X.0.bias \t torch.Size([128])\n",
            "l1X.2.weight \t torch.Size([128])\n",
            "l1X.2.bias \t torch.Size([128])\n",
            "l1X.2.running_mean \t torch.Size([128])\n",
            "l1X.2.running_var \t torch.Size([128])\n",
            "l1X.2.num_batches_tracked \t torch.Size([])\n",
            "r1.block1.0.weight \t torch.Size([128, 128, 3, 3])\n",
            "r1.block1.0.bias \t torch.Size([128])\n",
            "r1.block1.1.weight \t torch.Size([128])\n",
            "r1.block1.1.bias \t torch.Size([128])\n",
            "r1.block1.1.running_mean \t torch.Size([128])\n",
            "r1.block1.1.running_var \t torch.Size([128])\n",
            "r1.block1.1.num_batches_tracked \t torch.Size([])\n",
            "r1.block2.0.weight \t torch.Size([128, 128, 3, 3])\n",
            "r1.block2.0.bias \t torch.Size([128])\n",
            "r1.block2.1.weight \t torch.Size([128])\n",
            "r1.block2.1.bias \t torch.Size([128])\n",
            "r1.block2.1.running_mean \t torch.Size([128])\n",
            "r1.block2.1.running_var \t torch.Size([128])\n",
            "r1.block2.1.num_batches_tracked \t torch.Size([])\n",
            "l2X.0.weight \t torch.Size([256, 128, 3, 3])\n",
            "l2X.0.bias \t torch.Size([256])\n",
            "l2X.2.weight \t torch.Size([256])\n",
            "l2X.2.bias \t torch.Size([256])\n",
            "l2X.2.running_mean \t torch.Size([256])\n",
            "l2X.2.running_var \t torch.Size([256])\n",
            "l2X.2.num_batches_tracked \t torch.Size([])\n",
            "l3X.0.weight \t torch.Size([512, 256, 3, 3])\n",
            "l3X.0.bias \t torch.Size([512])\n",
            "l3X.2.weight \t torch.Size([512])\n",
            "l3X.2.bias \t torch.Size([512])\n",
            "l3X.2.running_mean \t torch.Size([512])\n",
            "l3X.2.running_var \t torch.Size([512])\n",
            "l3X.2.num_batches_tracked \t torch.Size([])\n",
            "r2.block1.0.weight \t torch.Size([512, 512, 3, 3])\n",
            "r2.block1.0.bias \t torch.Size([512])\n",
            "r2.block1.1.weight \t torch.Size([512])\n",
            "r2.block1.1.bias \t torch.Size([512])\n",
            "r2.block1.1.running_mean \t torch.Size([512])\n",
            "r2.block1.1.running_var \t torch.Size([512])\n",
            "r2.block1.1.num_batches_tracked \t torch.Size([])\n",
            "r2.block2.0.weight \t torch.Size([512, 512, 3, 3])\n",
            "r2.block2.0.bias \t torch.Size([512])\n",
            "r2.block2.1.weight \t torch.Size([512])\n",
            "r2.block2.1.bias \t torch.Size([512])\n",
            "r2.block2.1.running_mean \t torch.Size([512])\n",
            "r2.block2.1.running_var \t torch.Size([512])\n",
            "r2.block2.1.num_batches_tracked \t torch.Size([])\n",
            "fc1.weight \t torch.Size([10, 512])\n",
            "fc1.bias \t torch.Size([10])\n"
          ]
        }
      ]
    },
    {
      "cell_type": "code",
      "source": [
        "def get_total_parameters_count(model):\n",
        "    return sum(p.numel() for p in model.parameters() if p.requires_grad)\n",
        "\n",
        "def get_pruned_parameters_count(pruned_model):\n",
        "    params = 0\n",
        "    for param in pruned_model.parameters():\n",
        "        if param is not None:\n",
        "            params += torch.nonzero(param).size(0)\n",
        "    return params"
      ],
      "metadata": {
        "id": "ag4l8DfS6FzF"
      },
      "execution_count": null,
      "outputs": []
    },
    {
      "cell_type": "code",
      "source": [
        "total_params_count = get_pruned_parameters_count(model)\n",
        "print('Total parameters:', total_params_count)"
      ],
      "metadata": {
        "colab": {
          "base_uri": "https://localhost:8080/"
        },
        "id": "ErysDdjn6J5-",
        "outputId": "1e58b8c1-b5ca-4511-c15d-8b864d466e3b"
      },
      "execution_count": null,
      "outputs": [
        {
          "output_type": "stream",
          "name": "stdout",
          "text": [
            "Total parameters: 6575370\n"
          ]
        }
      ]
    },
    {
      "cell_type": "code",
      "source": [
        "pruned_model.prep"
      ],
      "metadata": {
        "colab": {
          "base_uri": "https://localhost:8080/"
        },
        "id": "jwPfNgft7Jxs",
        "outputId": "dbf7a0b1-a37d-496d-879e-18e7ede8c20b"
      },
      "execution_count": null,
      "outputs": [
        {
          "output_type": "execute_result",
          "data": {
            "text/plain": [
              "Sequential(\n",
              "  (0): Conv2d(3, 64, kernel_size=(3, 3), stride=(1, 1), padding=(1, 1))\n",
              "  (1): BatchNorm2d(64, eps=1e-05, momentum=0.1, affine=True, track_running_stats=True)\n",
              "  (2): ReLU()\n",
              ")"
            ]
          },
          "metadata": {},
          "execution_count": 17
        }
      ]
    },
    {
      "cell_type": "code",
      "source": [
        "from torch.nn.utils import prune\n",
        "def prune_my_model(pruned_model,pruning_percentage):\n",
        "  pruning_percenatage = pruning_percentage\n",
        "  parameters_to_prune = (\n",
        "      (pruned_model.prep[0], 'weight'),\n",
        "      (pruned_model.l1X[0], 'weight'),\n",
        "      (pruned_model.r1.block1[0], 'weight'),\n",
        "      (pruned_model.r1.block2[0], 'weight'),\n",
        "      (pruned_model.l2X[0], 'weight'),\n",
        "      (pruned_model.l3X[0], 'weight'),\n",
        "      (pruned_model.r2.block1[0], 'weight'),\n",
        "      (pruned_model.r2.block2[0], 'weight'),\n",
        "      (pruned_model.fc1, 'weight'),\n",
        "  )\n",
        "  prune.global_unstructured(\n",
        "      parameters_to_prune,\n",
        "      pruning_method=prune.L1Unstructured,\n",
        "      amount=pruning_percenatage, # Specifying the percentage\n",
        "  )\n",
        "\n",
        "  prune.remove(pruned_model.prep[0], 'weight')\n",
        "  prune.remove(pruned_model.l1X[0], 'weight')\n",
        "  prune.remove(pruned_model.r1.block1[0], 'weight')\n",
        "  prune.remove(pruned_model.r1.block2[0], 'weight')\n",
        "  prune.remove(pruned_model.l2X[0], 'weight')\n",
        "  prune.remove(pruned_model.l3X[0], 'weight')\n",
        "  prune.remove(pruned_model.r2.block1[0], 'weight')\n",
        "  prune.remove(pruned_model.r2.block2[0], 'weight')\n",
        "  prune.remove(pruned_model.fc1, 'weight')\n",
        "\n",
        "  pruned_model_param_count = get_pruned_parameters_count(pruned_model)\n",
        "  print('Original Model paramete count:', total_params_count)\n",
        "  print('Pruned Model parameter count:', pruned_model_param_count)\n",
        "  print(f'Compressed Percentage: {(100 - (pruned_model_param_count / total_params_count) * 100)}%')\n",
        "  correct = 0\n",
        "  total = 0\n",
        "  with torch.no_grad():\n",
        "      for data in test_loader:\n",
        "          images, labels = data\n",
        "          outputs = pruned_model(images)\n",
        "          _, predicted = torch.max(outputs.data, 1)\n",
        "          total += labels.size(0)\n",
        "          correct += (predicted == labels).sum().item()\n",
        "\n",
        "  print('Accuracy of the Pruned Model on the 10000 test images:', (\n",
        "      100 * correct / total))\n",
        "  # print('Accuracy of the Original Model on the 10000 test images', accuracy)"
      ],
      "metadata": {
        "id": "XbYBqPTECp59"
      },
      "execution_count": null,
      "outputs": []
    },
    {
      "cell_type": "code",
      "source": [
        "loss,correct = test(model, test_loader, device)\n",
        "\n",
        "print('Accuracy of the Original Model on the 10000 test images:', (\n",
        "    correct / 10000))"
      ],
      "metadata": {
        "colab": {
          "base_uri": "https://localhost:8080/"
        },
        "id": "T1Tx-4aj8Glr",
        "outputId": "6d3cbe00-016b-451d-9a0a-472485baad7d"
      },
      "execution_count": null,
      "outputs": [
        {
          "output_type": "stream",
          "name": "stdout",
          "text": [
            "Accuracy of the Original Model on the 10000 test images: 0.8928\n"
          ]
        }
      ]
    },
    {
      "cell_type": "code",
      "source": [
        "# Loading a model to a seperate classifier\n",
        "pruned_model = DavidNet()\n",
        "pruned_model.load_state_dict(torch.load('savemodel.pth'))\n",
        "prune_my_model(pruned_model,pruning_percentage=0.68)\n",
        "torch.save(pruned_model.state_dict(), 'pruned_savemodel_68.pth')"
      ],
      "metadata": {
        "colab": {
          "base_uri": "https://localhost:8080/"
        },
        "id": "WvkVfwkU73qL",
        "outputId": "cfbf2726-1496-460c-dc26-c5cd18e4b9d8"
      },
      "execution_count": null,
      "outputs": [
        {
          "output_type": "stream",
          "name": "stdout",
          "text": [
            "Original Model paramete count: 6575370\n",
            "Pruned Model parameter count: 2108695\n",
            "Compressed Percentage: 67.93039783312574%\n",
            "Accuracy of the Pruned Model on the 10000 test images: 88.38\n"
          ]
        }
      ]
    },
    {
      "cell_type": "code",
      "source": [
        "# Loading a model to a seperate classifier\n",
        "pruned_model = DavidNet()\n",
        "pruned_model.load_state_dict(torch.load('savemodel.pth'))\n",
        "prune_my_model(pruned_model,pruning_percentage=0.7)\n",
        "torch.save(pruned_model.state_dict(), 'pruned_savemodel_70.pth')"
      ],
      "metadata": {
        "colab": {
          "base_uri": "https://localhost:8080/"
        },
        "id": "01gdMDisLBKV",
        "outputId": "e48e5c0a-7807-480a-fe0f-2a10441b5340"
      },
      "execution_count": null,
      "outputs": [
        {
          "output_type": "stream",
          "name": "stdout",
          "text": [
            "Original Model paramete count: 6575370\n",
            "Pruned Model parameter count: 1977322\n",
            "Compressed Percentage: 69.92835384168495%\n",
            "Accuracy of the Pruned Model on the 10000 test images: 88.33\n"
          ]
        }
      ]
    },
    {
      "cell_type": "code",
      "source": [
        "# Loading a model to a seperate classifier\n",
        "pruned_model = DavidNet()\n",
        "pruned_model.load_state_dict(torch.load('savemodel.pth'))\n",
        "prune_my_model(pruned_model,pruning_percentage=0.75)\n",
        "torch.save(pruned_model.state_dict(), 'pruned_savemodel_75.pth')"
      ],
      "metadata": {
        "colab": {
          "base_uri": "https://localhost:8080/"
        },
        "id": "qoFRvvTBL18E",
        "outputId": "02a71986-66f2-4a9e-c2ad-bacf30ad3cec"
      },
      "execution_count": null,
      "outputs": [
        {
          "output_type": "stream",
          "name": "stdout",
          "text": [
            "Original Model paramete count: 6575370\n",
            "Pruned Model parameter count: 1648890\n",
            "Compressed Percentage: 74.92323625894817%\n",
            "Accuracy of the Pruned Model on the 10000 test images: 88.48\n"
          ]
        }
      ]
    },
    {
      "cell_type": "code",
      "source": [
        "# Loading a model to a seperate classifier\n",
        "pruned_model = DavidNet()\n",
        "pruned_model.load_state_dict(torch.load('savemodel.pth'))\n",
        "prune_my_model(pruned_model,pruning_percentage=0.9)\n",
        "torch.save(pruned_model.state_dict(), 'pruned_savemodel_90.pth')"
      ],
      "metadata": {
        "colab": {
          "base_uri": "https://localhost:8080/"
        },
        "id": "pjf0PXtILS7z",
        "outputId": "35ec299f-f136-415a-9b46-a5e2a817347c"
      },
      "execution_count": null,
      "outputs": [
        {
          "output_type": "stream",
          "name": "stdout",
          "text": [
            "Original Model paramete count: 6575370\n",
            "Pruned Model parameter count: 663594\n",
            "Compressed Percentage: 89.9078835107378%\n",
            "Accuracy of the Pruned Model on the 10000 test images: 88.46\n"
          ]
        }
      ]
    },
    {
      "cell_type": "code",
      "source": [
        "# Loading a model to a seperate classifier\n",
        "pruned_model = DavidNet()\n",
        "pruned_model.load_state_dict(torch.load('savemodel.pth'))\n",
        "prune_my_model(pruned_model,pruning_percentage=0.99)\n",
        "torch.save(pruned_model.state_dict(), 'pruned_savemodel_99.pth')"
      ],
      "metadata": {
        "colab": {
          "base_uri": "https://localhost:8080/"
        },
        "id": "VPDEPGtWM5sb",
        "outputId": "177b9cdf-067a-46be-ae3f-8343b77d1e24"
      },
      "execution_count": null,
      "outputs": [
        {
          "output_type": "stream",
          "name": "stdout",
          "text": [
            "Original Model paramete count: 6575370\n",
            "Pruned Model parameter count: 72416\n",
            "Compressed Percentage: 98.89867794511945%\n",
            "Accuracy of the Pruned Model on the 10000 test images: 74.58\n"
          ]
        }
      ]
    },
    {
      "cell_type": "code",
      "source": [
        "# Loading a model to a seperate classifier\n",
        "pruned_model = DavidNet()\n",
        "pruned_model.load_state_dict(torch.load('savemodel.pth'))\n",
        "prune_my_model(pruned_model,pruning_percentage=0.97)\n",
        "torch.save(pruned_model.state_dict(), 'pruned_savemodel_97.pth')"
      ],
      "metadata": {
        "colab": {
          "base_uri": "https://localhost:8080/"
        },
        "id": "Rs7qRs2VNiDa",
        "outputId": "ebbac1e8-a5c1-4126-934b-d5861a420560"
      },
      "execution_count": null,
      "outputs": [
        {
          "output_type": "stream",
          "name": "stdout",
          "text": [
            "Original Model paramete count: 6575370\n",
            "Pruned Model parameter count: 203789\n",
            "Compressed Percentage: 96.90072193656022%\n",
            "Accuracy of the Pruned Model on the 10000 test images: 85.64\n"
          ]
        }
      ]
    },
    {
      "cell_type": "code",
      "source": [
        "# Loading a model to a seperate classifier\n",
        "pruned_model = DavidNet()\n",
        "pruned_model.load_state_dict(torch.load('savemodel.pth'))\n",
        "prune_my_model(pruned_model,pruning_percentage=0.95)\n",
        "torch.save(pruned_model.state_dict(), 'pruned_savemodel_95.pth')"
      ],
      "metadata": {
        "colab": {
          "base_uri": "https://localhost:8080/"
        },
        "id": "0dX07OukOU86",
        "outputId": "f6274395-ab63-4558-da94-7a1a82c8a189"
      },
      "execution_count": null,
      "outputs": [
        {
          "output_type": "stream",
          "name": "stdout",
          "text": [
            "Original Model paramete count: 6575370\n",
            "Pruned Model parameter count: 335162\n",
            "Compressed Percentage: 94.902765928001%\n",
            "Accuracy of the Pruned Model on the 10000 test images: 87.77\n"
          ]
        }
      ]
    },
    {
      "cell_type": "code",
      "source": [
        "import numpy as np\n",
        "for _ in np.arange(0.9,1,0.01):\n",
        "  pruned_model = DavidNet()\n",
        "  pruned_model.load_state_dict(torch.load('savemodel.pth'))\n",
        "  prune_my_model(pruned_model,pruning_percentage=round(_,2))\n",
        "  torch.save(pruned_model.state_dict(), f'pruned_savemodel_{round(_,2)}.pth')\n",
        "  # print(round(_,2))"
      ],
      "metadata": {
        "colab": {
          "base_uri": "https://localhost:8080/"
        },
        "id": "pVbnXFMEPAyx",
        "outputId": "7fc3540f-0d21-4fb7-f005-05afe8044e83"
      },
      "execution_count": null,
      "outputs": [
        {
          "output_type": "stream",
          "name": "stdout",
          "text": [
            "Original Model paramete count: 6575370\n",
            "Pruned Model parameter count: 663594\n",
            "Compressed Percentage: 89.9078835107378%\n"
          ]
        },
        {
          "output_type": "stream",
          "name": "stderr",
          "text": [
            "/usr/local/lib/python3.10/dist-packages/torch/utils/data/dataloader.py:560: UserWarning: This DataLoader will create 4 worker processes in total. Our suggested max number of worker in current system is 2, which is smaller than what this DataLoader is going to create. Please be aware that excessive worker creation might get DataLoader running slow or even freeze, lower the worker number to avoid potential slowness/freeze if necessary.\n",
            "  warnings.warn(_create_warning_msg(\n"
          ]
        },
        {
          "output_type": "stream",
          "name": "stdout",
          "text": [
            "Accuracy of the Pruned Model on the 10000 test images: 88.22\n",
            "Original Model paramete count: 6575370\n",
            "Pruned Model parameter count: 597908\n",
            "Compressed Percentage: 90.90685391088257%\n",
            "Accuracy of the Pruned Model on the 10000 test images: 88.45\n",
            "Original Model paramete count: 6575370\n",
            "Pruned Model parameter count: 532221\n",
            "Compressed Percentage: 91.90583951929702%\n",
            "Accuracy of the Pruned Model on the 10000 test images: 88.44\n",
            "Original Model paramete count: 6575370\n",
            "Pruned Model parameter count: 466535\n",
            "Compressed Percentage: 92.90480991944179%\n",
            "Accuracy of the Pruned Model on the 10000 test images: 88.22\n",
            "Original Model paramete count: 6575370\n",
            "Pruned Model parameter count: 400848\n",
            "Compressed Percentage: 93.90379552785623%\n",
            "Accuracy of the Pruned Model on the 10000 test images: 88.19\n",
            "Original Model paramete count: 6575370\n",
            "Pruned Model parameter count: 335162\n",
            "Compressed Percentage: 94.902765928001%\n",
            "Accuracy of the Pruned Model on the 10000 test images: 87.86\n",
            "Original Model paramete count: 6575370\n",
            "Pruned Model parameter count: 269476\n",
            "Compressed Percentage: 95.90173632814579%\n",
            "Accuracy of the Pruned Model on the 10000 test images: 87.11\n",
            "Original Model paramete count: 6575370\n",
            "Pruned Model parameter count: 203789\n",
            "Compressed Percentage: 96.90072193656022%\n",
            "Accuracy of the Pruned Model on the 10000 test images: 85.65\n",
            "Original Model paramete count: 6575370\n",
            "Pruned Model parameter count: 138103\n",
            "Compressed Percentage: 97.899692336705%\n",
            "Accuracy of the Pruned Model on the 10000 test images: 82.73\n",
            "Original Model paramete count: 6575370\n",
            "Pruned Model parameter count: 72416\n",
            "Compressed Percentage: 98.89867794511945%\n",
            "Accuracy of the Pruned Model on the 10000 test images: 74.86\n"
          ]
        }
      ]
    },
    {
      "cell_type": "code",
      "source": [
        "# Loading a model to a seperate classifier\n",
        "pruned_model = DavidNet()\n",
        "pruned_model.load_state_dict(torch.load('savemodel.pth'))\n",
        "prune_my_model(pruned_model,pruning_percentage=0.5)\n",
        "torch.save(pruned_model.state_dict(), 'pruned_savemodel_0.5.pth')"
      ],
      "metadata": {
        "colab": {
          "base_uri": "https://localhost:8080/"
        },
        "id": "m6TRjUcbVUwZ",
        "outputId": "cfef7caf-b4dd-4e24-ffc4-e4a1fbac194d"
      },
      "execution_count": null,
      "outputs": [
        {
          "output_type": "stream",
          "name": "stdout",
          "text": [
            "Original Model paramete count: 6575370\n",
            "Pruned Model parameter count: 3291050\n",
            "Compressed Percentage: 49.948824172632115%\n"
          ]
        },
        {
          "output_type": "stream",
          "name": "stderr",
          "text": [
            "/usr/local/lib/python3.10/dist-packages/torch/utils/data/dataloader.py:560: UserWarning: This DataLoader will create 4 worker processes in total. Our suggested max number of worker in current system is 2, which is smaller than what this DataLoader is going to create. Please be aware that excessive worker creation might get DataLoader running slow or even freeze, lower the worker number to avoid potential slowness/freeze if necessary.\n",
            "  warnings.warn(_create_warning_msg(\n"
          ]
        },
        {
          "output_type": "stream",
          "name": "stdout",
          "text": [
            "Accuracy of the Pruned Model on the 10000 test images: 88.45\n"
          ]
        }
      ]
    },
    {
      "cell_type": "code",
      "source": [
        "# Loading a model to a seperate classifier\n",
        "pruned_model = DavidNet()\n",
        "pruned_model.load_state_dict(torch.load('savemodel.pth'))\n",
        "prune_my_model(pruned_model,pruning_percentage=0.60)\n",
        "torch.save(pruned_model.state_dict(), 'pruned_savemodel_0.60.pth')"
      ],
      "metadata": {
        "colab": {
          "base_uri": "https://localhost:8080/"
        },
        "id": "QUAWHRHWVX1J",
        "outputId": "efa93ffb-3234-4a3c-ebac-4f5c379ab483"
      },
      "execution_count": null,
      "outputs": [
        {
          "output_type": "stream",
          "name": "stdout",
          "text": [
            "Original Model paramete count: 6575370\n",
            "Pruned Model parameter count: 2634186\n",
            "Compressed Percentage: 59.938589007158534%\n",
            "Accuracy of the Pruned Model on the 10000 test images: 88.28\n"
          ]
        }
      ]
    },
    {
      "cell_type": "code",
      "source": [
        "from google.colab import files\n",
        "files.download('pruned_savemodel_60.pth')"
      ],
      "metadata": {
        "colab": {
          "base_uri": "https://localhost:8080/",
          "height": 17
        },
        "id": "JtQmMBpyZphY",
        "outputId": "958b71e5-d682-4f26-d7da-1ac1991773ce"
      },
      "execution_count": 66,
      "outputs": [
        {
          "output_type": "display_data",
          "data": {
            "text/plain": [
              "<IPython.core.display.Javascript object>"
            ],
            "application/javascript": [
              "\n",
              "    async function download(id, filename, size) {\n",
              "      if (!google.colab.kernel.accessAllowed) {\n",
              "        return;\n",
              "      }\n",
              "      const div = document.createElement('div');\n",
              "      const label = document.createElement('label');\n",
              "      label.textContent = `Downloading \"${filename}\": `;\n",
              "      div.appendChild(label);\n",
              "      const progress = document.createElement('progress');\n",
              "      progress.max = size;\n",
              "      div.appendChild(progress);\n",
              "      document.body.appendChild(div);\n",
              "\n",
              "      const buffers = [];\n",
              "      let downloaded = 0;\n",
              "\n",
              "      const channel = await google.colab.kernel.comms.open(id);\n",
              "      // Send a message to notify the kernel that we're ready.\n",
              "      channel.send({})\n",
              "\n",
              "      for await (const message of channel.messages) {\n",
              "        // Send a message to notify the kernel that we're ready.\n",
              "        channel.send({})\n",
              "        if (message.buffers) {\n",
              "          for (const buffer of message.buffers) {\n",
              "            buffers.push(buffer);\n",
              "            downloaded += buffer.byteLength;\n",
              "            progress.value = downloaded;\n",
              "          }\n",
              "        }\n",
              "      }\n",
              "      const blob = new Blob(buffers, {type: 'application/binary'});\n",
              "      const a = document.createElement('a');\n",
              "      a.href = window.URL.createObjectURL(blob);\n",
              "      a.download = filename;\n",
              "      div.appendChild(a);\n",
              "      a.click();\n",
              "      div.remove();\n",
              "    }\n",
              "  "
            ]
          },
          "metadata": {}
        },
        {
          "output_type": "display_data",
          "data": {
            "text/plain": [
              "<IPython.core.display.Javascript object>"
            ],
            "application/javascript": [
              "download(\"download_1645c24f-fc5c-48cd-8b9e-0255b24cd0b6\", \"pruned_savemodel_60.pth\", 26337799)"
            ]
          },
          "metadata": {}
        }
      ]
    },
    {
      "cell_type": "code",
      "source": [
        "from google.colab import files\n",
        "files.download('pruned_savemodel_68.pth')"
      ],
      "metadata": {
        "colab": {
          "base_uri": "https://localhost:8080/",
          "height": 17
        },
        "id": "pj2RhxiLZv3l",
        "outputId": "22722bc5-8bc9-4f62-cd15-01b982102727"
      },
      "execution_count": 67,
      "outputs": [
        {
          "output_type": "display_data",
          "data": {
            "text/plain": [
              "<IPython.core.display.Javascript object>"
            ],
            "application/javascript": [
              "\n",
              "    async function download(id, filename, size) {\n",
              "      if (!google.colab.kernel.accessAllowed) {\n",
              "        return;\n",
              "      }\n",
              "      const div = document.createElement('div');\n",
              "      const label = document.createElement('label');\n",
              "      label.textContent = `Downloading \"${filename}\": `;\n",
              "      div.appendChild(label);\n",
              "      const progress = document.createElement('progress');\n",
              "      progress.max = size;\n",
              "      div.appendChild(progress);\n",
              "      document.body.appendChild(div);\n",
              "\n",
              "      const buffers = [];\n",
              "      let downloaded = 0;\n",
              "\n",
              "      const channel = await google.colab.kernel.comms.open(id);\n",
              "      // Send a message to notify the kernel that we're ready.\n",
              "      channel.send({})\n",
              "\n",
              "      for await (const message of channel.messages) {\n",
              "        // Send a message to notify the kernel that we're ready.\n",
              "        channel.send({})\n",
              "        if (message.buffers) {\n",
              "          for (const buffer of message.buffers) {\n",
              "            buffers.push(buffer);\n",
              "            downloaded += buffer.byteLength;\n",
              "            progress.value = downloaded;\n",
              "          }\n",
              "        }\n",
              "      }\n",
              "      const blob = new Blob(buffers, {type: 'application/binary'});\n",
              "      const a = document.createElement('a');\n",
              "      a.href = window.URL.createObjectURL(blob);\n",
              "      a.download = filename;\n",
              "      div.appendChild(a);\n",
              "      a.click();\n",
              "      div.remove();\n",
              "    }\n",
              "  "
            ]
          },
          "metadata": {}
        },
        {
          "output_type": "display_data",
          "data": {
            "text/plain": [
              "<IPython.core.display.Javascript object>"
            ],
            "application/javascript": [
              "download(\"download_4e8b641b-5558-4980-868b-f1cc679df26f\", \"pruned_savemodel_68.pth\", 26337799)"
            ]
          },
          "metadata": {}
        }
      ]
    },
    {
      "cell_type": "markdown",
      "source": [
        "### Quantization"
      ],
      "metadata": {
        "id": "S1591KQSvX6f"
      }
    },
    {
      "cell_type": "code",
      "source": [
        "num_calibration_batches = 512"
      ],
      "metadata": {
        "id": "GBvSLa9vvSKg"
      },
      "execution_count": null,
      "outputs": []
    },
    {
      "cell_type": "code",
      "source": [
        "def load_model(model_file):\n",
        "    model = DavidNet(3,32)\n",
        "    state_dict = torch.load(model_file)\n",
        "    model.load_state_dict(state_dict)\n",
        "    model.to('cpu')\n",
        "    return model"
      ],
      "metadata": {
        "id": "TlQ3rxpp1BIC"
      },
      "execution_count": null,
      "outputs": []
    },
    {
      "cell_type": "code",
      "source": [
        "myModel = load_model('savemodel.pth').to(\"cpu\")\n",
        "myModel.eval()"
      ],
      "metadata": {
        "colab": {
          "base_uri": "https://localhost:8080/"
        },
        "id": "liMXAROh0vAU",
        "outputId": "a6511dca-0fcf-4c48-e379-73e4ce30d87a"
      },
      "execution_count": null,
      "outputs": [
        {
          "output_type": "execute_result",
          "data": {
            "text/plain": [
              "DavidNet(\n",
              "  (prep): Sequential(\n",
              "    (0): Conv2d(3, 64, kernel_size=(3, 3), stride=(1, 1), padding=(1, 1))\n",
              "    (1): BatchNorm2d(64, eps=1e-05, momentum=0.1, affine=True, track_running_stats=True)\n",
              "    (2): ReLU()\n",
              "  )\n",
              "  (l1X): Sequential(\n",
              "    (0): Conv2d(64, 128, kernel_size=(3, 3), stride=(1, 1), padding=(1, 1))\n",
              "    (1): MaxPool2d(kernel_size=2, stride=2, padding=0, dilation=1, ceil_mode=False)\n",
              "    (2): BatchNorm2d(128, eps=1e-05, momentum=0.1, affine=True, track_running_stats=True)\n",
              "    (3): ReLU()\n",
              "  )\n",
              "  (r1): ResBlock(\n",
              "    (block1): Sequential(\n",
              "      (0): Conv2d(128, 128, kernel_size=(3, 3), stride=(1, 1), padding=(1, 1))\n",
              "      (1): BatchNorm2d(128, eps=1e-05, momentum=0.1, affine=True, track_running_stats=True)\n",
              "    )\n",
              "    (block2): Sequential(\n",
              "      (0): Conv2d(128, 128, kernel_size=(3, 3), stride=(1, 1), padding=(1, 1))\n",
              "      (1): BatchNorm2d(128, eps=1e-05, momentum=0.1, affine=True, track_running_stats=True)\n",
              "    )\n",
              "    (relu): ReLU()\n",
              "  )\n",
              "  (l2X): Sequential(\n",
              "    (0): Conv2d(128, 256, kernel_size=(3, 3), stride=(1, 1), padding=(1, 1))\n",
              "    (1): MaxPool2d(kernel_size=2, stride=2, padding=0, dilation=1, ceil_mode=False)\n",
              "    (2): BatchNorm2d(256, eps=1e-05, momentum=0.1, affine=True, track_running_stats=True)\n",
              "    (3): ReLU()\n",
              "  )\n",
              "  (l3X): Sequential(\n",
              "    (0): Conv2d(256, 512, kernel_size=(3, 3), stride=(1, 1), padding=(1, 1))\n",
              "    (1): MaxPool2d(kernel_size=2, stride=2, padding=0, dilation=1, ceil_mode=False)\n",
              "    (2): BatchNorm2d(512, eps=1e-05, momentum=0.1, affine=True, track_running_stats=True)\n",
              "    (3): ReLU()\n",
              "  )\n",
              "  (r2): ResBlock(\n",
              "    (block1): Sequential(\n",
              "      (0): Conv2d(512, 512, kernel_size=(3, 3), stride=(1, 1), padding=(1, 1))\n",
              "      (1): BatchNorm2d(512, eps=1e-05, momentum=0.1, affine=True, track_running_stats=True)\n",
              "    )\n",
              "    (block2): Sequential(\n",
              "      (0): Conv2d(512, 512, kernel_size=(3, 3), stride=(1, 1), padding=(1, 1))\n",
              "      (1): BatchNorm2d(512, eps=1e-05, momentum=0.1, affine=True, track_running_stats=True)\n",
              "    )\n",
              "    (relu): ReLU()\n",
              "  )\n",
              "  (maxPool): MaxPool2d(kernel_size=4, stride=4, padding=0, dilation=1, ceil_mode=False)\n",
              "  (fc1): Linear(in_features=512, out_features=10, bias=True)\n",
              ")"
            ]
          },
          "metadata": {},
          "execution_count": 24
        }
      ]
    },
    {
      "cell_type": "code",
      "source": [
        "myModel.qconfig = torch.quantization.get_default_qconfig('fbgemm')"
      ],
      "metadata": {
        "id": "TRJyr67D1MsJ"
      },
      "execution_count": null,
      "outputs": []
    },
    {
      "cell_type": "code",
      "source": [
        "torch.quantization.prepare(myModel, inplace = True)\n",
        "torch.quantization.convert(myModel, inplace = True)"
      ],
      "metadata": {
        "colab": {
          "base_uri": "https://localhost:8080/"
        },
        "id": "T4-Zwneq1QUQ",
        "outputId": "9d858504-958d-48d6-cc7d-cf5673de636e"
      },
      "execution_count": null,
      "outputs": [
        {
          "output_type": "stream",
          "name": "stderr",
          "text": [
            "/usr/local/lib/python3.10/dist-packages/torch/ao/quantization/observer.py:214: UserWarning: Please use quant_min and quant_max to specify the range for observers.                     reduce_range will be deprecated in a future release of PyTorch.\n",
            "  warnings.warn(\n",
            "/usr/local/lib/python3.10/dist-packages/torch/ao/quantization/observer.py:1209: UserWarning: must run observer before calling calculate_qparams.                                    Returning default scale and zero point \n",
            "  warnings.warn(\n"
          ]
        },
        {
          "output_type": "execute_result",
          "data": {
            "text/plain": [
              "DavidNet(\n",
              "  (prep): Sequential(\n",
              "    (0): QuantizedConv2d(3, 64, kernel_size=(3, 3), stride=(1, 1), scale=1.0, zero_point=0, padding=(1, 1))\n",
              "    (1): QuantizedBatchNorm2d(64, eps=1e-05, momentum=0.1, affine=True, track_running_stats=True)\n",
              "    (2): ReLU()\n",
              "  )\n",
              "  (l1X): Sequential(\n",
              "    (0): QuantizedConv2d(64, 128, kernel_size=(3, 3), stride=(1, 1), scale=1.0, zero_point=0, padding=(1, 1))\n",
              "    (1): MaxPool2d(kernel_size=2, stride=2, padding=0, dilation=1, ceil_mode=False)\n",
              "    (2): QuantizedBatchNorm2d(128, eps=1e-05, momentum=0.1, affine=True, track_running_stats=True)\n",
              "    (3): ReLU()\n",
              "  )\n",
              "  (r1): ResBlock(\n",
              "    (block1): Sequential(\n",
              "      (0): QuantizedConv2d(128, 128, kernel_size=(3, 3), stride=(1, 1), scale=1.0, zero_point=0, padding=(1, 1))\n",
              "      (1): QuantizedBatchNorm2d(128, eps=1e-05, momentum=0.1, affine=True, track_running_stats=True)\n",
              "    )\n",
              "    (block2): Sequential(\n",
              "      (0): QuantizedConv2d(128, 128, kernel_size=(3, 3), stride=(1, 1), scale=1.0, zero_point=0, padding=(1, 1))\n",
              "      (1): QuantizedBatchNorm2d(128, eps=1e-05, momentum=0.1, affine=True, track_running_stats=True)\n",
              "    )\n",
              "    (relu): ReLU()\n",
              "  )\n",
              "  (l2X): Sequential(\n",
              "    (0): QuantizedConv2d(128, 256, kernel_size=(3, 3), stride=(1, 1), scale=1.0, zero_point=0, padding=(1, 1))\n",
              "    (1): MaxPool2d(kernel_size=2, stride=2, padding=0, dilation=1, ceil_mode=False)\n",
              "    (2): QuantizedBatchNorm2d(256, eps=1e-05, momentum=0.1, affine=True, track_running_stats=True)\n",
              "    (3): ReLU()\n",
              "  )\n",
              "  (l3X): Sequential(\n",
              "    (0): QuantizedConv2d(256, 512, kernel_size=(3, 3), stride=(1, 1), scale=1.0, zero_point=0, padding=(1, 1))\n",
              "    (1): MaxPool2d(kernel_size=2, stride=2, padding=0, dilation=1, ceil_mode=False)\n",
              "    (2): QuantizedBatchNorm2d(512, eps=1e-05, momentum=0.1, affine=True, track_running_stats=True)\n",
              "    (3): ReLU()\n",
              "  )\n",
              "  (r2): ResBlock(\n",
              "    (block1): Sequential(\n",
              "      (0): QuantizedConv2d(512, 512, kernel_size=(3, 3), stride=(1, 1), scale=1.0, zero_point=0, padding=(1, 1))\n",
              "      (1): QuantizedBatchNorm2d(512, eps=1e-05, momentum=0.1, affine=True, track_running_stats=True)\n",
              "    )\n",
              "    (block2): Sequential(\n",
              "      (0): QuantizedConv2d(512, 512, kernel_size=(3, 3), stride=(1, 1), scale=1.0, zero_point=0, padding=(1, 1))\n",
              "      (1): QuantizedBatchNorm2d(512, eps=1e-05, momentum=0.1, affine=True, track_running_stats=True)\n",
              "    )\n",
              "    (relu): ReLU()\n",
              "  )\n",
              "  (maxPool): MaxPool2d(kernel_size=4, stride=4, padding=0, dilation=1, ceil_mode=False)\n",
              "  (fc1): QuantizedLinear(in_features=512, out_features=10, scale=1.0, zero_point=0, qscheme=torch.per_channel_affine)\n",
              ")"
            ]
          },
          "metadata": {},
          "execution_count": 26
        }
      ]
    },
    {
      "cell_type": "code",
      "source": [
        "torch.save(myModel.state_dict(), 'quant_savemodel.pt')"
      ],
      "metadata": {
        "id": "PpqLjBm72AS8"
      },
      "execution_count": null,
      "outputs": []
    },
    {
      "cell_type": "code",
      "source": [
        "# eval_batch_size = 512\n",
        "# num_eval_batches = 1"
      ],
      "metadata": {
        "id": "SxhMyi9b3EkB"
      },
      "execution_count": null,
      "outputs": []
    },
    {
      "cell_type": "code",
      "source": [
        "# class AverageMeter(object):\n",
        "#     \"\"\"Computes and stores the average and current value\"\"\"\n",
        "#     def __init__(self, name, fmt=':f'):\n",
        "#         self.name = name\n",
        "#         self.fmt = fmt\n",
        "#         self.reset()\n",
        "\n",
        "#     def reset(self):\n",
        "#         self.val = 0\n",
        "#         self.avg = 0\n",
        "#         self.sum = 0\n",
        "#         self.count = 0\n",
        "\n",
        "#     def update(self, val, n=1):\n",
        "#         self.val = val\n",
        "#         self.sum += val * n\n",
        "#         self.count += n\n",
        "#         self.avg = self.sum / self.count\n",
        "\n",
        "#     def __str__(self):\n",
        "#         fmtstr = '{name} {val' + self.fmt + '} ({avg' + self.fmt + '})'\n",
        "#         return fmtstr.format(**self.__dict__)"
      ],
      "metadata": {
        "id": "3c1nxQCE3Sv4"
      },
      "execution_count": null,
      "outputs": []
    },
    {
      "cell_type": "code",
      "source": [
        "# def evaluate(model, criterion, data_loader, neval_batches):\n",
        "#     model.eval()\n",
        "#     top1 = AverageMeter('Acc@1', ':6.2f')\n",
        "#     top5 = AverageMeter('Acc@5', ':6.2f')\n",
        "#     cnt = 0\n",
        "#     with torch.no_grad():\n",
        "#         for image, target in data_loader:\n",
        "#             output = model(image)\n",
        "#             loss = criterion(output, target)\n",
        "#             cnt += 1\n",
        "#             acc1, acc5 = accuracy(output, target, topk=(1, 5))\n",
        "#             print('.', end = '')\n",
        "#             top1.update(acc1[0], image.size(0))\n",
        "#             top5.update(acc5[0], image.size(0))\n",
        "#             if cnt >= neval_batches:\n",
        "#                  return top1, top5\n",
        "\n",
        "#     return top1, top5"
      ],
      "metadata": {
        "id": "9Bm0ZFHd3Mao"
      },
      "execution_count": null,
      "outputs": []
    },
    {
      "cell_type": "code",
      "source": [
        "# top1, top5 = evaluate(model, criterion, test_loader, neval_batches=512)\n",
        "# print('Evaluation accuracy on %d images, %2.2f'%(num_eval_batches * eval_batch_size, top1.avg))"
      ],
      "metadata": {
        "id": "1zo85j7B2eC4"
      },
      "execution_count": null,
      "outputs": []
    },
    {
      "cell_type": "code",
      "source": [],
      "metadata": {
        "id": "gKm01Vym3USz"
      },
      "execution_count": null,
      "outputs": []
    }
  ],
  "metadata": {
    "kernelspec": {
      "display_name": "Python 3",
      "name": "python3"
    },
    "language_info": {
      "codemirror_mode": {
        "name": "ipython",
        "version": 3
      },
      "file_extension": ".py",
      "mimetype": "text/x-python",
      "name": "python",
      "nbconvert_exporter": "python",
      "pygments_lexer": "ipython3",
      "version": "3.8.16"
    },
    "orig_nbformat": 4,
    "colab": {
      "provenance": [],
      "gpuType": "T4",
      "include_colab_link": true
    },
    "accelerator": "GPU",
    "widgets": {
      "application/vnd.jupyter.widget-state+json": {
        "7fc833761ddb4f588235f1e8842b6c88": {
          "model_module": "@jupyter-widgets/controls",
          "model_name": "HBoxModel",
          "model_module_version": "1.5.0",
          "state": {
            "_dom_classes": [],
            "_model_module": "@jupyter-widgets/controls",
            "_model_module_version": "1.5.0",
            "_model_name": "HBoxModel",
            "_view_count": null,
            "_view_module": "@jupyter-widgets/controls",
            "_view_module_version": "1.5.0",
            "_view_name": "HBoxView",
            "box_style": "",
            "children": [
              "IPY_MODEL_e073365722ec4ce3909cc61a953aa272",
              "IPY_MODEL_a2c029a2eafa404b946978e6ca693367",
              "IPY_MODEL_81973afc09124e6bbae668d4cc5147e5"
            ],
            "layout": "IPY_MODEL_9c8dd526682044baa1345fdc632876bb"
          }
        },
        "e073365722ec4ce3909cc61a953aa272": {
          "model_module": "@jupyter-widgets/controls",
          "model_name": "HTMLModel",
          "model_module_version": "1.5.0",
          "state": {
            "_dom_classes": [],
            "_model_module": "@jupyter-widgets/controls",
            "_model_module_version": "1.5.0",
            "_model_name": "HTMLModel",
            "_view_count": null,
            "_view_module": "@jupyter-widgets/controls",
            "_view_module_version": "1.5.0",
            "_view_name": "HTMLView",
            "description": "",
            "description_tooltip": null,
            "layout": "IPY_MODEL_b92286ee57934cf28b9104f7467304ea",
            "placeholder": "​",
            "style": "IPY_MODEL_94b84a50715c40379c5a992f841d8fbc",
            "value": " 62%"
          }
        },
        "a2c029a2eafa404b946978e6ca693367": {
          "model_module": "@jupyter-widgets/controls",
          "model_name": "FloatProgressModel",
          "model_module_version": "1.5.0",
          "state": {
            "_dom_classes": [],
            "_model_module": "@jupyter-widgets/controls",
            "_model_module_version": "1.5.0",
            "_model_name": "FloatProgressModel",
            "_view_count": null,
            "_view_module": "@jupyter-widgets/controls",
            "_view_module_version": "1.5.0",
            "_view_name": "ProgressView",
            "bar_style": "danger",
            "description": "",
            "description_tooltip": null,
            "layout": "IPY_MODEL_4ffd521660d24fe59a461aa14eb81c92",
            "max": 200,
            "min": 0,
            "orientation": "horizontal",
            "style": "IPY_MODEL_426f9b91c1ad452a8f8a7b7876eb9436",
            "value": 125
          }
        },
        "81973afc09124e6bbae668d4cc5147e5": {
          "model_module": "@jupyter-widgets/controls",
          "model_name": "HTMLModel",
          "model_module_version": "1.5.0",
          "state": {
            "_dom_classes": [],
            "_model_module": "@jupyter-widgets/controls",
            "_model_module_version": "1.5.0",
            "_model_name": "HTMLModel",
            "_view_count": null,
            "_view_module": "@jupyter-widgets/controls",
            "_view_module_version": "1.5.0",
            "_view_name": "HTMLView",
            "description": "",
            "description_tooltip": null,
            "layout": "IPY_MODEL_32b92e1e01164ef1a7d9ba3dea675a0e",
            "placeholder": "​",
            "style": "IPY_MODEL_0e094b5c526a43b5a7bcb6d2baa1ef30",
            "value": " 125/200 [00:41&lt;00:24,  3.05it/s]"
          }
        },
        "9c8dd526682044baa1345fdc632876bb": {
          "model_module": "@jupyter-widgets/base",
          "model_name": "LayoutModel",
          "model_module_version": "1.2.0",
          "state": {
            "_model_module": "@jupyter-widgets/base",
            "_model_module_version": "1.2.0",
            "_model_name": "LayoutModel",
            "_view_count": null,
            "_view_module": "@jupyter-widgets/base",
            "_view_module_version": "1.2.0",
            "_view_name": "LayoutView",
            "align_content": null,
            "align_items": null,
            "align_self": null,
            "border": null,
            "bottom": null,
            "display": null,
            "flex": null,
            "flex_flow": null,
            "grid_area": null,
            "grid_auto_columns": null,
            "grid_auto_flow": null,
            "grid_auto_rows": null,
            "grid_column": null,
            "grid_gap": null,
            "grid_row": null,
            "grid_template_areas": null,
            "grid_template_columns": null,
            "grid_template_rows": null,
            "height": null,
            "justify_content": null,
            "justify_items": null,
            "left": null,
            "margin": null,
            "max_height": null,
            "max_width": null,
            "min_height": null,
            "min_width": null,
            "object_fit": null,
            "object_position": null,
            "order": null,
            "overflow": null,
            "overflow_x": null,
            "overflow_y": null,
            "padding": null,
            "right": null,
            "top": null,
            "visibility": null,
            "width": null
          }
        },
        "b92286ee57934cf28b9104f7467304ea": {
          "model_module": "@jupyter-widgets/base",
          "model_name": "LayoutModel",
          "model_module_version": "1.2.0",
          "state": {
            "_model_module": "@jupyter-widgets/base",
            "_model_module_version": "1.2.0",
            "_model_name": "LayoutModel",
            "_view_count": null,
            "_view_module": "@jupyter-widgets/base",
            "_view_module_version": "1.2.0",
            "_view_name": "LayoutView",
            "align_content": null,
            "align_items": null,
            "align_self": null,
            "border": null,
            "bottom": null,
            "display": null,
            "flex": null,
            "flex_flow": null,
            "grid_area": null,
            "grid_auto_columns": null,
            "grid_auto_flow": null,
            "grid_auto_rows": null,
            "grid_column": null,
            "grid_gap": null,
            "grid_row": null,
            "grid_template_areas": null,
            "grid_template_columns": null,
            "grid_template_rows": null,
            "height": null,
            "justify_content": null,
            "justify_items": null,
            "left": null,
            "margin": null,
            "max_height": null,
            "max_width": null,
            "min_height": null,
            "min_width": null,
            "object_fit": null,
            "object_position": null,
            "order": null,
            "overflow": null,
            "overflow_x": null,
            "overflow_y": null,
            "padding": null,
            "right": null,
            "top": null,
            "visibility": null,
            "width": null
          }
        },
        "94b84a50715c40379c5a992f841d8fbc": {
          "model_module": "@jupyter-widgets/controls",
          "model_name": "DescriptionStyleModel",
          "model_module_version": "1.5.0",
          "state": {
            "_model_module": "@jupyter-widgets/controls",
            "_model_module_version": "1.5.0",
            "_model_name": "DescriptionStyleModel",
            "_view_count": null,
            "_view_module": "@jupyter-widgets/base",
            "_view_module_version": "1.2.0",
            "_view_name": "StyleView",
            "description_width": ""
          }
        },
        "4ffd521660d24fe59a461aa14eb81c92": {
          "model_module": "@jupyter-widgets/base",
          "model_name": "LayoutModel",
          "model_module_version": "1.2.0",
          "state": {
            "_model_module": "@jupyter-widgets/base",
            "_model_module_version": "1.2.0",
            "_model_name": "LayoutModel",
            "_view_count": null,
            "_view_module": "@jupyter-widgets/base",
            "_view_module_version": "1.2.0",
            "_view_name": "LayoutView",
            "align_content": null,
            "align_items": null,
            "align_self": null,
            "border": null,
            "bottom": null,
            "display": null,
            "flex": null,
            "flex_flow": null,
            "grid_area": null,
            "grid_auto_columns": null,
            "grid_auto_flow": null,
            "grid_auto_rows": null,
            "grid_column": null,
            "grid_gap": null,
            "grid_row": null,
            "grid_template_areas": null,
            "grid_template_columns": null,
            "grid_template_rows": null,
            "height": null,
            "justify_content": null,
            "justify_items": null,
            "left": null,
            "margin": null,
            "max_height": null,
            "max_width": null,
            "min_height": null,
            "min_width": null,
            "object_fit": null,
            "object_position": null,
            "order": null,
            "overflow": null,
            "overflow_x": null,
            "overflow_y": null,
            "padding": null,
            "right": null,
            "top": null,
            "visibility": null,
            "width": null
          }
        },
        "426f9b91c1ad452a8f8a7b7876eb9436": {
          "model_module": "@jupyter-widgets/controls",
          "model_name": "ProgressStyleModel",
          "model_module_version": "1.5.0",
          "state": {
            "_model_module": "@jupyter-widgets/controls",
            "_model_module_version": "1.5.0",
            "_model_name": "ProgressStyleModel",
            "_view_count": null,
            "_view_module": "@jupyter-widgets/base",
            "_view_module_version": "1.2.0",
            "_view_name": "StyleView",
            "bar_color": null,
            "description_width": ""
          }
        },
        "32b92e1e01164ef1a7d9ba3dea675a0e": {
          "model_module": "@jupyter-widgets/base",
          "model_name": "LayoutModel",
          "model_module_version": "1.2.0",
          "state": {
            "_model_module": "@jupyter-widgets/base",
            "_model_module_version": "1.2.0",
            "_model_name": "LayoutModel",
            "_view_count": null,
            "_view_module": "@jupyter-widgets/base",
            "_view_module_version": "1.2.0",
            "_view_name": "LayoutView",
            "align_content": null,
            "align_items": null,
            "align_self": null,
            "border": null,
            "bottom": null,
            "display": null,
            "flex": null,
            "flex_flow": null,
            "grid_area": null,
            "grid_auto_columns": null,
            "grid_auto_flow": null,
            "grid_auto_rows": null,
            "grid_column": null,
            "grid_gap": null,
            "grid_row": null,
            "grid_template_areas": null,
            "grid_template_columns": null,
            "grid_template_rows": null,
            "height": null,
            "justify_content": null,
            "justify_items": null,
            "left": null,
            "margin": null,
            "max_height": null,
            "max_width": null,
            "min_height": null,
            "min_width": null,
            "object_fit": null,
            "object_position": null,
            "order": null,
            "overflow": null,
            "overflow_x": null,
            "overflow_y": null,
            "padding": null,
            "right": null,
            "top": null,
            "visibility": null,
            "width": null
          }
        },
        "0e094b5c526a43b5a7bcb6d2baa1ef30": {
          "model_module": "@jupyter-widgets/controls",
          "model_name": "DescriptionStyleModel",
          "model_module_version": "1.5.0",
          "state": {
            "_model_module": "@jupyter-widgets/controls",
            "_model_module_version": "1.5.0",
            "_model_name": "DescriptionStyleModel",
            "_view_count": null,
            "_view_module": "@jupyter-widgets/base",
            "_view_module_version": "1.2.0",
            "_view_name": "StyleView",
            "description_width": ""
          }
        }
      }
    }
  },
  "nbformat": 4,
  "nbformat_minor": 0
}